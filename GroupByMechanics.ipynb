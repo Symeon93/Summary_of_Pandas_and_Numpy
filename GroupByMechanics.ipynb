{
 "cells": [
  {
   "cell_type": "markdown",
   "metadata": {},
   "source": [
    "<h3> Grouping data"
   ]
  },
  {
   "cell_type": "markdown",
   "metadata": {},
   "source": [
    "<h4> Group by Mechanics"
   ]
  },
  {
   "cell_type": "code",
   "execution_count": 5,
   "metadata": {},
   "outputs": [],
   "source": [
    "import psycopg2\n",
    "conn  = psycopg2.connect(dbname = 'postgres', user = 'postgres', password = 'durham17')\n",
    "conn.close()"
   ]
  },
  {
   "cell_type": "code",
   "execution_count": 5,
   "metadata": {
    "code_folding": [
     3
    ]
   },
   "outputs": [],
   "source": [
    "import pandas as pd \n",
    "import numpy as np\n",
    "\n",
    "df = pd.DataFrame({'key1' : ['a', 'a', 'b', 'b', 'a'],\n",
    "     'key2' : ['one', 'two', 'one', 'two', 'one'],\n",
    "     'data1' : np.random.randn(5),\n",
    "     'data2' : np.random.randn(5)})"
   ]
  },
  {
   "cell_type": "code",
   "execution_count": 6,
   "metadata": {},
   "outputs": [],
   "source": [
    "grouped = df['data1'].groupby(df['key1']) #identify the column on which we will perform the grouping \n",
    "#                                            this will usuallly be a colummn within the same dataframe\n",
    "#                                            therefore, a simple 'key1' also makes up for it"
   ]
  },
  {
   "cell_type": "code",
   "execution_count": 7,
   "metadata": {},
   "outputs": [
    {
     "data": {
      "text/plain": [
       "<pandas.core.groupby.generic.SeriesGroupBy object at 0x000001AAA2D316C8>"
      ]
     },
     "execution_count": 7,
     "metadata": {},
     "output_type": "execute_result"
    }
   ],
   "source": [
    "grouped #nothing yet calculated, the object is simply now a Grouped object\n",
    "        #allowing us to perform any operation on the grouped data like sum, avg etc on the group "
   ]
  },
  {
   "cell_type": "code",
   "execution_count": 8,
   "metadata": {},
   "outputs": [
    {
     "data": {
      "text/plain": [
       "key1\n",
       "a    1.904083\n",
       "b   -1.208443\n",
       "Name: data1, dtype: float64"
      ]
     },
     "execution_count": 8,
     "metadata": {},
     "output_type": "execute_result"
    }
   ],
   "source": [
    "grouped.sum()"
   ]
  },
  {
   "cell_type": "code",
   "execution_count": 9,
   "metadata": {},
   "outputs": [
    {
     "data": {
      "text/plain": [
       "key1  key2\n",
       "a     one     1.171297\n",
       "      two     0.732787\n",
       "b     one    -0.876256\n",
       "      two    -0.332187\n",
       "Name: data1, dtype: float64"
      ]
     },
     "execution_count": 9,
     "metadata": {},
     "output_type": "execute_result"
    }
   ],
   "source": [
    "new_grouped = df['data1'].groupby([df['key1'], df['key2']]).sum()\n",
    "new_grouped #usually you want to perform the grouping in terms of a column \n",
    "            #alrady existing in the dataframe, hence you just pass the labels as an argument \n",
    "            #in the group by function"
   ]
  },
  {
   "cell_type": "code",
   "execution_count": 10,
   "metadata": {},
   "outputs": [
    {
     "data": {
      "text/html": [
       "<div>\n",
       "<style scoped>\n",
       "    .dataframe tbody tr th:only-of-type {\n",
       "        vertical-align: middle;\n",
       "    }\n",
       "\n",
       "    .dataframe tbody tr th {\n",
       "        vertical-align: top;\n",
       "    }\n",
       "\n",
       "    .dataframe thead th {\n",
       "        text-align: right;\n",
       "    }\n",
       "</style>\n",
       "<table border=\"1\" class=\"dataframe\">\n",
       "  <thead>\n",
       "    <tr style=\"text-align: right;\">\n",
       "      <th>key2</th>\n",
       "      <th>one</th>\n",
       "      <th>two</th>\n",
       "    </tr>\n",
       "    <tr>\n",
       "      <th>key1</th>\n",
       "      <th></th>\n",
       "      <th></th>\n",
       "    </tr>\n",
       "  </thead>\n",
       "  <tbody>\n",
       "    <tr>\n",
       "      <th>a</th>\n",
       "      <td>1.171297</td>\n",
       "      <td>0.732787</td>\n",
       "    </tr>\n",
       "    <tr>\n",
       "      <th>b</th>\n",
       "      <td>-0.876256</td>\n",
       "      <td>-0.332187</td>\n",
       "    </tr>\n",
       "  </tbody>\n",
       "</table>\n",
       "</div>"
      ],
      "text/plain": [
       "key2       one       two\n",
       "key1                    \n",
       "a     1.171297  0.732787\n",
       "b    -0.876256 -0.332187"
      ]
     },
     "execution_count": 10,
     "metadata": {},
     "output_type": "execute_result"
    }
   ],
   "source": [
    "new_grouped.unstack() #since we have multiple layers of indices we can play around by unstacking "
   ]
  },
  {
   "cell_type": "code",
   "execution_count": 11,
   "metadata": {},
   "outputs": [
    {
     "data": {
      "text/plain": [
       "key1  key2\n",
       "a     one     2\n",
       "      two     1\n",
       "b     one     1\n",
       "      two     1\n",
       "dtype: int64"
      ]
     },
     "execution_count": 11,
     "metadata": {},
     "output_type": "execute_result"
    }
   ],
   "source": [
    "df.groupby(['key1', 'key2']).size() #count the elements within each group"
   ]
  },
  {
   "cell_type": "code",
   "execution_count": 9,
   "metadata": {
    "collapsed": true
   },
   "outputs": [
    {
     "name": "stdout",
     "output_type": "stream",
     "text": [
      "a one\n",
      "  key1 key2     data1     data2\n",
      "0    a  one  1.146703  0.041228\n",
      "4    a  one -0.064465  1.728981\n",
      "a two\n",
      "  key1 key2     data1   data2\n",
      "1    a  two -0.549787  0.9125\n",
      "b one\n",
      "  key1 key2     data1    data2\n",
      "2    b  one -1.294528 -0.23877\n",
      "b two\n",
      "  key1 key2     data1     data2\n",
      "3    b  two -2.183422 -1.643006\n"
     ]
    }
   ],
   "source": [
    "for (k1,k2), group in df.groupby(['key1', 'key2']):\n",
    "    print(k1,k2)\n",
    "    print(group)\n",
    "#groupby object is iterable, therefore we can parse it with a for \n",
    "#getting the each separate key and its chunk of data"
   ]
  },
  {
   "cell_type": "code",
   "execution_count": 10,
   "metadata": {
    "collapsed": true
   },
   "outputs": [],
   "source": [
    "pieces = list(df.groupby('key1')) #since groupby is iterable we cast the object into list like \n",
    "                                  #objects i.e. lists, tuples, dicts "
   ]
  },
  {
   "cell_type": "code",
   "execution_count": 11,
   "metadata": {
    "collapsed": true
   },
   "outputs": [
    {
     "data": {
      "text/plain": [
       "[('a',\n",
       "    key1 key2     data1     data2\n",
       "  0    a  one  1.146703  0.041228\n",
       "  1    a  two -0.549787  0.912500\n",
       "  4    a  one -0.064465  1.728981),\n",
       " ('b',\n",
       "    key1 key2     data1     data2\n",
       "  2    b  one -1.294528 -0.238770\n",
       "  3    b  two -2.183422 -1.643006)]"
      ]
     },
     "execution_count": 11,
     "metadata": {},
     "output_type": "execute_result"
    }
   ],
   "source": [
    "pieces"
   ]
  },
  {
   "cell_type": "code",
   "execution_count": 12,
   "metadata": {
    "collapsed": true
   },
   "outputs": [],
   "source": [
    "pieces = dict(pieces)"
   ]
  },
  {
   "cell_type": "code",
   "execution_count": 13,
   "metadata": {
    "collapsed": true
   },
   "outputs": [
    {
     "data": {
      "text/plain": [
       "{'a':   key1 key2     data1     data2\n",
       " 0    a  one  1.146703  0.041228\n",
       " 1    a  two -0.549787  0.912500\n",
       " 4    a  one -0.064465  1.728981,\n",
       " 'b':   key1 key2     data1     data2\n",
       " 2    b  one -1.294528 -0.238770\n",
       " 3    b  two -2.183422 -1.643006}"
      ]
     },
     "execution_count": 13,
     "metadata": {},
     "output_type": "execute_result"
    }
   ],
   "source": [
    "pieces"
   ]
  },
  {
   "cell_type": "code",
   "execution_count": 14,
   "metadata": {
    "collapsed": true
   },
   "outputs": [
    {
     "name": "stdout",
     "output_type": "stream",
     "text": [
      "float64\n",
      "      data1     data2\n",
      "0  1.146703  0.041228\n",
      "1 -0.549787  0.912500\n",
      "2 -1.294528 -0.238770\n",
      "3 -2.183422 -1.643006\n",
      "4 -0.064465  1.728981\n",
      "object\n",
      "  key1 key2\n",
      "0    a  one\n",
      "1    a  two\n",
      "2    b  one\n",
      "3    b  two\n",
      "4    a  one\n"
     ]
    }
   ],
   "source": [
    "grouped = df.groupby(df.dtypes, axis = 1) #remember that groupby groups by default on 0 axis \n",
    "                                          #that said, along the rows\n",
    "\n",
    "for data_types, data in grouped: #group data by their data types\n",
    "    print (data_types)\n",
    "    print(data)"
   ]
  },
  {
   "cell_type": "code",
   "execution_count": 15,
   "metadata": {
    "collapsed": true
   },
   "outputs": [
    {
     "name": "stdout",
     "output_type": "stream",
     "text": [
      "float64\n",
      "      data1     data2\n",
      "0  1.146703  0.041228\n",
      "1 -0.549787  0.912500\n",
      "2 -1.294528 -0.238770\n",
      "3 -2.183422 -1.643006\n",
      "4 -0.064465  1.728981\n",
      "object\n",
      "  key1 key2\n",
      "0    a  one\n",
      "1    a  two\n",
      "2    b  one\n",
      "3    b  two\n",
      "4    a  one\n"
     ]
    }
   ],
   "source": [
    "for data_types, data in grouped: #group data by their data types\n",
    "    print (data_types)\n",
    "    print(data)"
   ]
  },
  {
   "cell_type": "code",
   "execution_count": 16,
   "metadata": {
    "collapsed": true
   },
   "outputs": [
    {
     "data": {
      "text/html": [
       "<div>\n",
       "<style scoped>\n",
       "    .dataframe tbody tr th:only-of-type {\n",
       "        vertical-align: middle;\n",
       "    }\n",
       "\n",
       "    .dataframe tbody tr th {\n",
       "        vertical-align: top;\n",
       "    }\n",
       "\n",
       "    .dataframe thead th {\n",
       "        text-align: right;\n",
       "    }\n",
       "</style>\n",
       "<table border=\"1\" class=\"dataframe\">\n",
       "  <thead>\n",
       "    <tr style=\"text-align: right;\">\n",
       "      <th></th>\n",
       "      <th>data1</th>\n",
       "      <th>data2</th>\n",
       "    </tr>\n",
       "    <tr>\n",
       "      <th>key1</th>\n",
       "      <th></th>\n",
       "      <th></th>\n",
       "    </tr>\n",
       "  </thead>\n",
       "  <tbody>\n",
       "    <tr>\n",
       "      <th>a</th>\n",
       "      <td>0.53245</td>\n",
       "      <td>2.682709</td>\n",
       "    </tr>\n",
       "    <tr>\n",
       "      <th>b</th>\n",
       "      <td>-3.47795</td>\n",
       "      <td>-1.881776</td>\n",
       "    </tr>\n",
       "  </tbody>\n",
       "</table>\n",
       "</div>"
      ],
      "text/plain": [
       "        data1     data2\n",
       "key1                   \n",
       "a     0.53245  2.682709\n",
       "b    -3.47795 -1.881776"
      ]
     },
     "execution_count": 16,
     "metadata": {},
     "output_type": "execute_result"
    }
   ],
   "source": [
    "df.groupby('key1').sum()"
   ]
  },
  {
   "cell_type": "code",
   "execution_count": 17,
   "metadata": {
    "collapsed": true
   },
   "outputs": [
    {
     "data": {
      "text/plain": [
       "key1\n",
       "a    0.53245\n",
       "b   -3.47795\n",
       "Name: data1, dtype: float64"
      ]
     },
     "execution_count": 17,
     "metadata": {},
     "output_type": "execute_result"
    }
   ],
   "source": [
    "df.groupby('key1')['data1'].sum() #brings out a series"
   ]
  },
  {
   "cell_type": "code",
   "execution_count": 18,
   "metadata": {
    "collapsed": true
   },
   "outputs": [
    {
     "data": {
      "text/html": [
       "<div>\n",
       "<style scoped>\n",
       "    .dataframe tbody tr th:only-of-type {\n",
       "        vertical-align: middle;\n",
       "    }\n",
       "\n",
       "    .dataframe tbody tr th {\n",
       "        vertical-align: top;\n",
       "    }\n",
       "\n",
       "    .dataframe thead th {\n",
       "        text-align: right;\n",
       "    }\n",
       "</style>\n",
       "<table border=\"1\" class=\"dataframe\">\n",
       "  <thead>\n",
       "    <tr style=\"text-align: right;\">\n",
       "      <th></th>\n",
       "      <th>data1</th>\n",
       "    </tr>\n",
       "    <tr>\n",
       "      <th>key1</th>\n",
       "      <th></th>\n",
       "    </tr>\n",
       "  </thead>\n",
       "  <tbody>\n",
       "    <tr>\n",
       "      <th>a</th>\n",
       "      <td>0.53245</td>\n",
       "    </tr>\n",
       "    <tr>\n",
       "      <th>b</th>\n",
       "      <td>-3.47795</td>\n",
       "    </tr>\n",
       "  </tbody>\n",
       "</table>\n",
       "</div>"
      ],
      "text/plain": [
       "        data1\n",
       "key1         \n",
       "a     0.53245\n",
       "b    -3.47795"
      ]
     },
     "execution_count": 18,
     "metadata": {},
     "output_type": "execute_result"
    }
   ],
   "source": [
    "    df.groupby('key1')[['data1']].sum() #brings out a dataframe"
   ]
  },
  {
   "cell_type": "markdown",
   "metadata": {},
   "source": [
    "<h4> Data Aggregation "
   ]
  },
  {
   "cell_type": "markdown",
   "metadata": {},
   "source": [
    "<p>  Data aggregation functions are simply the functions that act on multidimensional \n",
    "    arrays to return a scalar value. Functions like these inclde sum(), average(), count(), \n",
    "    min(), max(), median(), var(), std(), etc...\n",
    "   "
   ]
  },
  {
   "cell_type": "markdown",
   "metadata": {},
   "source": [
    "<p> One can define his own aggregation function by defining the function itself and then passing its process to the data via the .agg() method e.g.:\n",
    "    \n",
    "    def peak_to_peak(arr):\n",
    "        return arr.max() - arr.min()\n",
    "    grouped.agg(peak_to_peak) \n",
    "    \n",
    "in case the function to be used is already a built-in Python function then we can pass it through a \n",
    "string e.g.:\n",
    "    \n",
    "    grouped.agg('sum')\n"
   ]
  },
  {
   "cell_type": "markdown",
   "metadata": {},
   "source": [
    "<p> Once we group by a dataframe by two or more column element (this will result in high level layered\n",
    "    index). We can aggregate by particular functions (built-in or user defined). Just pass the    \n",
    "    functions as list like object within .agg().\n",
    "    \n",
    "<p> Here we can also give our own defined names for each of these functions, these will then appear as \n",
    "    the names of the columns in the new dataframe. Syntax is implemented as 2-tuple e.g.:\n",
    "    \n",
    "        grouped_pct.agg([('foo', 'mean'), ('bar', np.std)])"
   ]
  },
  {
   "cell_type": "markdown",
   "metadata": {},
   "source": [
    "<p> In case we want to return back the dataframe with a reset index after performing the grouping \n",
    "    we can add an optional argument the as_index = False (or call the dataframe.reset_index in the \n",
    "    next line)"
   ]
  },
  {
   "cell_type": "markdown",
   "metadata": {},
   "source": [
    "<h4> General split - apply -combine"
   ]
  },
  {
   "cell_type": "code",
   "execution_count": 19,
   "metadata": {
    "collapsed": true
   },
   "outputs": [],
   "source": [
    "frame = pd.DataFrame({'data1': np.random.randn(1000),\n",
    "        'data2': np.random.randn(1000)}) "
   ]
  },
  {
   "cell_type": "code",
   "execution_count": 20,
   "metadata": {
    "collapsed": true
   },
   "outputs": [
    {
     "data": {
      "text/html": [
       "<div>\n",
       "<style scoped>\n",
       "    .dataframe tbody tr th:only-of-type {\n",
       "        vertical-align: middle;\n",
       "    }\n",
       "\n",
       "    .dataframe tbody tr th {\n",
       "        vertical-align: top;\n",
       "    }\n",
       "\n",
       "    .dataframe thead th {\n",
       "        text-align: right;\n",
       "    }\n",
       "</style>\n",
       "<table border=\"1\" class=\"dataframe\">\n",
       "  <thead>\n",
       "    <tr style=\"text-align: right;\">\n",
       "      <th></th>\n",
       "      <th>data1</th>\n",
       "      <th>data2</th>\n",
       "    </tr>\n",
       "  </thead>\n",
       "  <tbody>\n",
       "    <tr>\n",
       "      <th>0</th>\n",
       "      <td>-0.020104</td>\n",
       "      <td>1.045619</td>\n",
       "    </tr>\n",
       "    <tr>\n",
       "      <th>1</th>\n",
       "      <td>-2.318474</td>\n",
       "      <td>0.954577</td>\n",
       "    </tr>\n",
       "    <tr>\n",
       "      <th>2</th>\n",
       "      <td>-0.320897</td>\n",
       "      <td>1.422115</td>\n",
       "    </tr>\n",
       "    <tr>\n",
       "      <th>3</th>\n",
       "      <td>1.156208</td>\n",
       "      <td>-0.330006</td>\n",
       "    </tr>\n",
       "    <tr>\n",
       "      <th>4</th>\n",
       "      <td>0.282310</td>\n",
       "      <td>-0.838154</td>\n",
       "    </tr>\n",
       "    <tr>\n",
       "      <th>...</th>\n",
       "      <td>...</td>\n",
       "      <td>...</td>\n",
       "    </tr>\n",
       "    <tr>\n",
       "      <th>995</th>\n",
       "      <td>-1.165283</td>\n",
       "      <td>-0.214872</td>\n",
       "    </tr>\n",
       "    <tr>\n",
       "      <th>996</th>\n",
       "      <td>-0.352671</td>\n",
       "      <td>-0.957109</td>\n",
       "    </tr>\n",
       "    <tr>\n",
       "      <th>997</th>\n",
       "      <td>-0.894165</td>\n",
       "      <td>-0.391920</td>\n",
       "    </tr>\n",
       "    <tr>\n",
       "      <th>998</th>\n",
       "      <td>-0.337819</td>\n",
       "      <td>0.144592</td>\n",
       "    </tr>\n",
       "    <tr>\n",
       "      <th>999</th>\n",
       "      <td>-0.288329</td>\n",
       "      <td>0.545393</td>\n",
       "    </tr>\n",
       "  </tbody>\n",
       "</table>\n",
       "<p>1000 rows × 2 columns</p>\n",
       "</div>"
      ],
      "text/plain": [
       "        data1     data2\n",
       "0   -0.020104  1.045619\n",
       "1   -2.318474  0.954577\n",
       "2   -0.320897  1.422115\n",
       "3    1.156208 -0.330006\n",
       "4    0.282310 -0.838154\n",
       "..        ...       ...\n",
       "995 -1.165283 -0.214872\n",
       "996 -0.352671 -0.957109\n",
       "997 -0.894165 -0.391920\n",
       "998 -0.337819  0.144592\n",
       "999 -0.288329  0.545393\n",
       "\n",
       "[1000 rows x 2 columns]"
      ]
     },
     "execution_count": 20,
     "metadata": {},
     "output_type": "execute_result"
    }
   ],
   "source": [
    "frame"
   ]
  },
  {
   "cell_type": "code",
   "execution_count": 21,
   "metadata": {
    "collapsed": true
   },
   "outputs": [],
   "source": [
    "quartiles = pd.cut(frame.data1, 4) #let's break the data into 4 buckets of equal \n",
    "                                   #length "
   ]
  },
  {
   "cell_type": "code",
   "execution_count": 22,
   "metadata": {
    "collapsed": true
   },
   "outputs": [
    {
     "data": {
      "text/plain": [
       "0    (-0.182, 1.605]\n",
       "1    (-3.765, -1.97]\n",
       "2    (-1.97, -0.182]\n",
       "3    (-0.182, 1.605]\n",
       "4    (-0.182, 1.605]\n",
       "5    (-0.182, 1.605]\n",
       "6    (-0.182, 1.605]\n",
       "7    (-0.182, 1.605]\n",
       "8    (-1.97, -0.182]\n",
       "9    (-1.97, -0.182]\n",
       "Name: data1, dtype: category\n",
       "Categories (4, interval[float64]): [(-3.765, -1.97] < (-1.97, -0.182] < (-0.182, 1.605] < (1.605, 3.392]]"
      ]
     },
     "execution_count": 22,
     "metadata": {},
     "output_type": "execute_result"
    }
   ],
   "source": [
    "quartiles[:10]"
   ]
  },
  {
   "cell_type": "markdown",
   "metadata": {},
   "source": [
    "<p> Therefore, cut returns a categorical object that can in turn be passed in a groupby method\n",
    "    to come up with an elementary analysis."
   ]
  },
  {
   "cell_type": "code",
   "execution_count": 23,
   "metadata": {
    "collapsed": true
   },
   "outputs": [],
   "source": [
    "def get_stats(group):\n",
    "       return {'min': group.min(), 'max': group.max(),\n",
    "       'count': group.count(), 'mean': group.mean()} #create a dict that will return a frame with \n",
    "                                                     #included values/results of functions "
   ]
  },
  {
   "cell_type": "code",
   "execution_count": 24,
   "metadata": {
    "collapsed": true
   },
   "outputs": [],
   "source": [
    "grouped = frame.data2.groupby(quartiles).apply(get_stats)"
   ]
  },
  {
   "cell_type": "code",
   "execution_count": 25,
   "metadata": {
    "collapsed": true
   },
   "outputs": [
    {
     "data": {
      "text/plain": [
       "data1                 \n",
       "(-3.765, -1.97]  min       -1.290351\n",
       "                 max        1.832438\n",
       "                 count     28.000000\n",
       "                 mean       0.278480\n",
       "(-1.97, -0.182]  min       -3.097640\n",
       "                 max        3.085691\n",
       "                 count    396.000000\n",
       "                 mean      -0.046310\n",
       "(-0.182, 1.605]  min       -2.760482\n",
       "                 max        3.487996\n",
       "                 count    513.000000\n",
       "                 mean      -0.012373\n",
       "(1.605, 3.392]   min       -2.288093\n",
       "                 max        1.550225\n",
       "                 count     63.000000\n",
       "                 mean      -0.061613\n",
       "Name: data2, dtype: float64"
      ]
     },
     "execution_count": 25,
     "metadata": {},
     "output_type": "execute_result"
    }
   ],
   "source": [
    "grouped #we would like to unstack this so that it will look closer to a dataframe"
   ]
  },
  {
   "cell_type": "code",
   "execution_count": 26,
   "metadata": {
    "collapsed": true
   },
   "outputs": [
    {
     "data": {
      "text/html": [
       "<div>\n",
       "<style scoped>\n",
       "    .dataframe tbody tr th:only-of-type {\n",
       "        vertical-align: middle;\n",
       "    }\n",
       "\n",
       "    .dataframe tbody tr th {\n",
       "        vertical-align: top;\n",
       "    }\n",
       "\n",
       "    .dataframe thead th {\n",
       "        text-align: right;\n",
       "    }\n",
       "</style>\n",
       "<table border=\"1\" class=\"dataframe\">\n",
       "  <thead>\n",
       "    <tr style=\"text-align: right;\">\n",
       "      <th></th>\n",
       "      <th>min</th>\n",
       "      <th>max</th>\n",
       "      <th>count</th>\n",
       "      <th>mean</th>\n",
       "    </tr>\n",
       "    <tr>\n",
       "      <th>data1</th>\n",
       "      <th></th>\n",
       "      <th></th>\n",
       "      <th></th>\n",
       "      <th></th>\n",
       "    </tr>\n",
       "  </thead>\n",
       "  <tbody>\n",
       "    <tr>\n",
       "      <th>(-3.765, -1.97]</th>\n",
       "      <td>-1.290351</td>\n",
       "      <td>1.832438</td>\n",
       "      <td>28.0</td>\n",
       "      <td>0.278480</td>\n",
       "    </tr>\n",
       "    <tr>\n",
       "      <th>(-1.97, -0.182]</th>\n",
       "      <td>-3.097640</td>\n",
       "      <td>3.085691</td>\n",
       "      <td>396.0</td>\n",
       "      <td>-0.046310</td>\n",
       "    </tr>\n",
       "    <tr>\n",
       "      <th>(-0.182, 1.605]</th>\n",
       "      <td>-2.760482</td>\n",
       "      <td>3.487996</td>\n",
       "      <td>513.0</td>\n",
       "      <td>-0.012373</td>\n",
       "    </tr>\n",
       "    <tr>\n",
       "      <th>(1.605, 3.392]</th>\n",
       "      <td>-2.288093</td>\n",
       "      <td>1.550225</td>\n",
       "      <td>63.0</td>\n",
       "      <td>-0.061613</td>\n",
       "    </tr>\n",
       "  </tbody>\n",
       "</table>\n",
       "</div>"
      ],
      "text/plain": [
       "                      min       max  count      mean\n",
       "data1                                               \n",
       "(-3.765, -1.97] -1.290351  1.832438   28.0  0.278480\n",
       "(-1.97, -0.182] -3.097640  3.085691  396.0 -0.046310\n",
       "(-0.182, 1.605] -2.760482  3.487996  513.0 -0.012373\n",
       "(1.605, 3.392]  -2.288093  1.550225   63.0 -0.061613"
      ]
     },
     "execution_count": 26,
     "metadata": {},
     "output_type": "execute_result"
    }
   ],
   "source": [
    "grouped.unstack() #this will add a higher column layer "
   ]
  },
  {
   "cell_type": "code",
   "execution_count": 27,
   "metadata": {
    "collapsed": true
   },
   "outputs": [],
   "source": [
    "grouping = pd.qcut(frame.data1, 10, labels = False) #take out the labels to just show the quartiles"
   ]
  },
  {
   "cell_type": "code",
   "execution_count": 28,
   "metadata": {
    "collapsed": true
   },
   "outputs": [],
   "source": [
    "grouped = frame.data1.groupby(grouping).apply(get_stats)"
   ]
  },
  {
   "cell_type": "code",
   "execution_count": 29,
   "metadata": {
    "collapsed": true
   },
   "outputs": [
    {
     "data": {
      "text/html": [
       "<div>\n",
       "<style scoped>\n",
       "    .dataframe tbody tr th:only-of-type {\n",
       "        vertical-align: middle;\n",
       "    }\n",
       "\n",
       "    .dataframe tbody tr th {\n",
       "        vertical-align: top;\n",
       "    }\n",
       "\n",
       "    .dataframe thead th {\n",
       "        text-align: right;\n",
       "    }\n",
       "</style>\n",
       "<table border=\"1\" class=\"dataframe\">\n",
       "  <thead>\n",
       "    <tr style=\"text-align: right;\">\n",
       "      <th></th>\n",
       "      <th>min</th>\n",
       "      <th>max</th>\n",
       "      <th>count</th>\n",
       "      <th>mean</th>\n",
       "    </tr>\n",
       "    <tr>\n",
       "      <th>data1</th>\n",
       "      <th></th>\n",
       "      <th></th>\n",
       "      <th></th>\n",
       "      <th></th>\n",
       "    </tr>\n",
       "  </thead>\n",
       "  <tbody>\n",
       "    <tr>\n",
       "      <th>0</th>\n",
       "      <td>-3.757417</td>\n",
       "      <td>-1.281580</td>\n",
       "      <td>100.0</td>\n",
       "      <td>-1.812180</td>\n",
       "    </tr>\n",
       "    <tr>\n",
       "      <th>1</th>\n",
       "      <td>-1.279988</td>\n",
       "      <td>-0.819359</td>\n",
       "      <td>100.0</td>\n",
       "      <td>-1.044174</td>\n",
       "    </tr>\n",
       "    <tr>\n",
       "      <th>2</th>\n",
       "      <td>-0.818913</td>\n",
       "      <td>-0.524604</td>\n",
       "      <td>100.0</td>\n",
       "      <td>-0.659369</td>\n",
       "    </tr>\n",
       "    <tr>\n",
       "      <th>3</th>\n",
       "      <td>-0.522969</td>\n",
       "      <td>-0.249779</td>\n",
       "      <td>100.0</td>\n",
       "      <td>-0.370770</td>\n",
       "    </tr>\n",
       "    <tr>\n",
       "      <th>4</th>\n",
       "      <td>-0.243360</td>\n",
       "      <td>0.007964</td>\n",
       "      <td>100.0</td>\n",
       "      <td>-0.121458</td>\n",
       "    </tr>\n",
       "    <tr>\n",
       "      <th>5</th>\n",
       "      <td>0.009090</td>\n",
       "      <td>0.272704</td>\n",
       "      <td>100.0</td>\n",
       "      <td>0.126368</td>\n",
       "    </tr>\n",
       "    <tr>\n",
       "      <th>6</th>\n",
       "      <td>0.273398</td>\n",
       "      <td>0.543485</td>\n",
       "      <td>100.0</td>\n",
       "      <td>0.399724</td>\n",
       "    </tr>\n",
       "    <tr>\n",
       "      <th>7</th>\n",
       "      <td>0.544162</td>\n",
       "      <td>0.896555</td>\n",
       "      <td>100.0</td>\n",
       "      <td>0.730134</td>\n",
       "    </tr>\n",
       "    <tr>\n",
       "      <th>8</th>\n",
       "      <td>0.903433</td>\n",
       "      <td>1.348839</td>\n",
       "      <td>100.0</td>\n",
       "      <td>1.098143</td>\n",
       "    </tr>\n",
       "    <tr>\n",
       "      <th>9</th>\n",
       "      <td>1.354111</td>\n",
       "      <td>3.392454</td>\n",
       "      <td>100.0</td>\n",
       "      <td>1.856481</td>\n",
       "    </tr>\n",
       "  </tbody>\n",
       "</table>\n",
       "</div>"
      ],
      "text/plain": [
       "            min       max  count      mean\n",
       "data1                                     \n",
       "0     -3.757417 -1.281580  100.0 -1.812180\n",
       "1     -1.279988 -0.819359  100.0 -1.044174\n",
       "2     -0.818913 -0.524604  100.0 -0.659369\n",
       "3     -0.522969 -0.249779  100.0 -0.370770\n",
       "4     -0.243360  0.007964  100.0 -0.121458\n",
       "5      0.009090  0.272704  100.0  0.126368\n",
       "6      0.273398  0.543485  100.0  0.399724\n",
       "7      0.544162  0.896555  100.0  0.730134\n",
       "8      0.903433  1.348839  100.0  1.098143\n",
       "9      1.354111  3.392454  100.0  1.856481"
      ]
     },
     "execution_count": 29,
     "metadata": {},
     "output_type": "execute_result"
    }
   ],
   "source": [
    "grouped.unstack() #unstack the Series like object and voila"
   ]
  },
  {
   "cell_type": "markdown",
   "metadata": {},
   "source": [
    "<p> Let's come back to the context of missing values, in general we will either drop these values \n",
    "    (usually this is the case where our analysis is not affected by these values) or fill these \n",
    "    missing data with values coming from the frame (usually the mean, median or most frequent value \n",
    "    in case of a categorical variable)."
   ]
  },
  {
   "cell_type": "code",
   "execution_count": 30,
   "metadata": {
    "collapsed": true
   },
   "outputs": [],
   "source": [
    "s = pd.Series(np.random.randn(6))\n",
    "s[::2] = np.nan #generate missing values in the Series"
   ]
  },
  {
   "cell_type": "code",
   "execution_count": 31,
   "metadata": {
    "collapsed": true
   },
   "outputs": [
    {
     "data": {
      "text/plain": [
       "0         NaN\n",
       "1   -0.303752\n",
       "2         NaN\n",
       "3    0.826533\n",
       "4         NaN\n",
       "5    0.768268\n",
       "dtype: float64"
      ]
     },
     "execution_count": 31,
     "metadata": {},
     "output_type": "execute_result"
    }
   ],
   "source": [
    "s"
   ]
  },
  {
   "cell_type": "code",
   "execution_count": 32,
   "metadata": {
    "collapsed": true
   },
   "outputs": [
    {
     "data": {
      "text/plain": [
       "0    0.430350\n",
       "1   -0.303752\n",
       "2    0.430350\n",
       "3    0.826533\n",
       "4    0.430350\n",
       "5    0.768268\n",
       "dtype: float64"
      ]
     },
     "execution_count": 32,
     "metadata": {},
     "output_type": "execute_result"
    }
   ],
   "source": [
    "s.fillna(s.mean())"
   ]
  },
  {
   "cell_type": "code",
   "execution_count": 33,
   "metadata": {
    "collapsed": true
   },
   "outputs": [],
   "source": [
    "states = ['Ohio', 'New York', 'Vermont', 'Florida',\n",
    "        'Oregon', 'Nevada', 'California', 'Idaho']\n",
    "group_key = ['East'] * 4 + ['West'] * 4"
   ]
  },
  {
   "cell_type": "code",
   "execution_count": 34,
   "metadata": {
    "collapsed": true
   },
   "outputs": [
    {
     "data": {
      "text/plain": [
       "['East', 'East', 'East', 'East', 'West', 'West', 'West', 'West']"
      ]
     },
     "execution_count": 34,
     "metadata": {},
     "output_type": "execute_result"
    }
   ],
   "source": [
    "group_key"
   ]
  },
  {
   "cell_type": "code",
   "execution_count": 35,
   "metadata": {
    "collapsed": true
   },
   "outputs": [
    {
     "data": {
      "text/plain": [
       "Ohio         -2.722728\n",
       "New York     -0.759869\n",
       "Vermont      -0.950695\n",
       "Florida       0.341104\n",
       "Oregon       -0.749584\n",
       "Nevada       -1.674508\n",
       "California   -0.531549\n",
       "Idaho        -1.484340\n",
       "dtype: float64"
      ]
     },
     "execution_count": 35,
     "metadata": {},
     "output_type": "execute_result"
    }
   ],
   "source": [
    "data = pd.Series(np.random.randn(8), index=states)\n",
    "data"
   ]
  },
  {
   "cell_type": "code",
   "execution_count": 36,
   "metadata": {
    "collapsed": true
   },
   "outputs": [],
   "source": [
    "data[['Vermont', 'Nevada', 'Idaho']] = np.nan"
   ]
  },
  {
   "cell_type": "code",
   "execution_count": 37,
   "metadata": {
    "collapsed": true
   },
   "outputs": [
    {
     "data": {
      "text/plain": [
       "Ohio         -2.722728\n",
       "New York     -0.759869\n",
       "Vermont            NaN\n",
       "Florida       0.341104\n",
       "Oregon       -0.749584\n",
       "Nevada             NaN\n",
       "California   -0.531549\n",
       "Idaho              NaN\n",
       "dtype: float64"
      ]
     },
     "execution_count": 37,
     "metadata": {},
     "output_type": "execute_result"
    }
   ],
   "source": [
    "data"
   ]
  },
  {
   "cell_type": "code",
   "execution_count": 38,
   "metadata": {
    "collapsed": true
   },
   "outputs": [],
   "source": [
    "fill_mean = lambda g: g.fillna(g.mean())"
   ]
  },
  {
   "cell_type": "code",
   "execution_count": 39,
   "metadata": {
    "collapsed": true
   },
   "outputs": [
    {
     "data": {
      "text/plain": [
       "Ohio         -2.722728\n",
       "New York     -0.759869\n",
       "Vermont      -1.047164\n",
       "Florida       0.341104\n",
       "Oregon       -0.749584\n",
       "Nevada       -0.640566\n",
       "California   -0.531549\n",
       "Idaho        -0.640566\n",
       "dtype: float64"
      ]
     },
     "execution_count": 39,
     "metadata": {},
     "output_type": "execute_result"
    }
   ],
   "source": [
    "data.groupby(group_key).apply(fill_mean) #we just replace the missing value for west/east city \n",
    "                                         #with the mean from for west/east"
   ]
  },
  {
   "cell_type": "code",
   "execution_count": 40,
   "metadata": {
    "collapsed": true
   },
   "outputs": [
    {
     "data": {
      "text/plain": [
       "East   -1.047164\n",
       "West   -0.640566\n",
       "dtype: float64"
      ]
     },
     "execution_count": 40,
     "metadata": {},
     "output_type": "execute_result"
    }
   ],
   "source": [
    "data.groupby(group_key).mean()"
   ]
  },
  {
   "cell_type": "code",
   "execution_count": 43,
   "metadata": {
    "collapsed": true
   },
   "outputs": [
    {
     "data": {
      "text/plain": [
       "Ohio         -2.722728\n",
       "New York     -0.759869\n",
       "Vermont       0.500000\n",
       "Florida       0.341104\n",
       "Oregon       -0.749584\n",
       "Nevada       -1.000000\n",
       "California   -0.531549\n",
       "Idaho        -1.000000\n",
       "dtype: float64"
      ]
     },
     "execution_count": 43,
     "metadata": {},
     "output_type": "execute_result"
    }
   ],
   "source": [
    "fill_values = {'East': 0.5, 'West': -1}\n",
    "fill_func = lambda g: g.fillna(fill_values[g.name]) #take advantage of the internal\n",
    "                                                    #attribute g.name of a groupby object?\n",
    "data.groupby(group_key).apply(fill_func)"
   ]
  },
  {
   "cell_type": "code",
   "execution_count": null,
   "metadata": {
    "collapsed": true
   },
   "outputs": [],
   "source": []
  }
 ],
 "metadata": {
  "kernelspec": {
   "display_name": "Python 3",
   "language": "python",
   "name": "python3"
  },
  "language_info": {
   "codemirror_mode": {
    "name": "ipython",
    "version": 3
   },
   "file_extension": ".py",
   "mimetype": "text/x-python",
   "name": "python",
   "nbconvert_exporter": "python",
   "pygments_lexer": "ipython3",
   "version": "3.7.6"
  },
  "toc": {
   "base_numbering": 1,
   "nav_menu": {},
   "number_sections": true,
   "sideBar": true,
   "skip_h1_title": false,
   "title_cell": "Table of Contents",
   "title_sidebar": "Contents",
   "toc_cell": false,
   "toc_position": {},
   "toc_section_display": true,
   "toc_window_display": false
  }
 },
 "nbformat": 4,
 "nbformat_minor": 4
}
